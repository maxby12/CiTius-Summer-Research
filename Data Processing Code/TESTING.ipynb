{
 "cells": [
  {
   "cell_type": "code",
   "execution_count": 1,
   "metadata": {},
   "outputs": [],
   "source": [
    "import os\n",
    "import sys\n",
    "import numpy as np\n",
    "import matplotlib.pyplot as plt\n",
    "import matplotlib.image as mpimg\n",
    "import tensorflow as tf\n",
    "\n",
    "tf.enable_eager_execution()\n",
    "\n",
    "from skimage import io, img_as_float, img_as_ubyte\n",
    "from skimage.transform import rescale, resize\n",
    "from skimage.util import view_as_blocks\n",
    "\n",
    "# Features when reading Examples\n",
    "features = {\n",
    "    'rows': tf.FixedLenFeature([], tf.int64),\n",
    "    'cols': tf.FixedLenFeature([], tf.int64),\n",
    "    'channels': tf.FixedLenFeature([], tf.int64),\n",
    "    'image': tf.FixedLenFeature([], tf.string),\n",
    "    'label': tf.FixedLenFeature([], tf.int64)\n",
    "}\n",
    "\n",
    "%load_ext autotime"
   ]
  },
  {
   "cell_type": "code",
   "execution_count": 4,
   "metadata": {},
   "outputs": [
    {
     "name": "stdout",
     "output_type": "stream",
     "text": [
      "time: 2.17 ms\n"
     ]
    }
   ],
   "source": [
    "# CLASS TO EXTRACT IMAGES FROM A TFRECORD AND RETURN A DATASET\n",
    "class TFRecordExtractor:\n",
    "    def __init__(self, tfrecord_file):\n",
    "        self.tfrecord_file = os.path.abspath(tfrecord_file)\n",
    "\n",
    "    def _extract_fn(self, tfrecord):\n",
    "        # Extract the data record\n",
    "        sample = tf.parse_single_example(tfrecord, features)\n",
    "\n",
    "        # cast image [0, 255] to [0.0, 1.0]\n",
    "        image = tf.image.decode_image(sample['image'], dtype=tf.uint8)\n",
    "        image = tf.cast(image, tf.float32)\n",
    "        image = image / 255\n",
    "        \n",
    "        #print(image.dtype)\n",
    "        img_shape = tf.stack([sample['rows'], sample['cols'], sample['channels']])\n",
    "        label = sample['label']\n",
    "        label = tf.cast(label, tf.int64)\n",
    "        #filename = sample['filename']\n",
    "        \n",
    "        return image\n",
    "\n",
    "    def extract_image(self):\n",
    "\n",
    "        # Pipeline of dataset\n",
    "        dataset = tf.data.TFRecordDataset([self.tfrecord_file])\n",
    "        dataset = dataset.map(self._extract_fn)\n",
    "        \n",
    "        return dataset"
   ]
  },
  {
   "cell_type": "code",
   "execution_count": 33,
   "metadata": {},
   "outputs": [
    {
     "name": "stdout",
     "output_type": "stream",
     "text": [
      "time: 3.14 ms\n"
     ]
    }
   ],
   "source": [
    "image_size = 256\n",
    "input_size = 126\n",
    "crop_size = 16\n",
    "def get_patches(image):\n",
    "    ksizes=[1,input_size,input_size,1]\n",
    "    strides=[1,crop_size,crop_size,1]\n",
    "    rates=[1,1,1,1]\n",
    "    patches = tf.image.extract_image_patches(tf.reshape(image, (1, 256, 256, 3)),ksizes,strides,rates,padding='VALID')\n",
    "    num_patches = int( (image_size/input_size)**2 )\n",
    "    return tf.reshape(patches, (-1, input_size, input_size, 3))\n",
    "\n",
    "def reduced_train_input_fn(dataset, samples=100):\n",
    "    dataset = dataset.map(get_patches, num_parallel_calls=tf.data.experimental.AUTOTUNE).apply(tf.data.experimental.unbatch())\n",
    "    if samples>0: dataset = dataset.take(samples)\n",
    "    dataset = dataset.batch(4)\n",
    "    dataset = dataset.prefetch(1)  # make sure you always have one batch ready to serve\n",
    "    return dataset"
   ]
  },
  {
   "cell_type": "code",
   "execution_count": 34,
   "metadata": {
    "scrolled": false
   },
   "outputs": [
    {
     "name": "stdout",
     "output_type": "stream",
     "text": [
      "81\n",
      "time: 145 ms\n"
     ]
    }
   ],
   "source": [
    "# TEST THE READING AND PARSING OF THE TRAINING TFRECORD INTO A DATASET\n",
    "tfrecords_path = '../TFRecords/'\n",
    "dataset_name = 'Bark-Anomalies-Test'\n",
    "t = TFRecordExtractor(tfrecords_path+dataset_name+'.tfrecord')\n",
    "dataset = t.extract_image()\n",
    "dataset = reduced_train_input_fn(dataset.take(1), samples=-1)\n",
    "#dataset = dataset.map(map_test, num_parallel_calls=tf.data.experimental.AUTOTUNE)\n",
    "#dataset = dataset.map(get_patches, num_parallel_calls=tf.data.experimental.AUTOTUNE)\n",
    "\n",
    "patch_count = 0\n",
    "i, j = 0, 0\n",
    "for batch in dataset:\n",
    "    #print(batch.shape)\n",
    "    \n",
    "    for image in batch:\n",
    "        patch_count += 1\n",
    "        #plt.imshow(image)\n",
    "        #plt.show()\n",
    "        '''\n",
    "        print(image.shape)\n",
    "        \n",
    "        if i+j == 0:\n",
    "            f, axarr = plt.subplots(ncols=2, nrows=2, figsize=(15, 7))\n",
    "\n",
    "        axarr[i,j].imshow(image)\n",
    "        axarr[i,j].set_title(str(i+j))\n",
    "\n",
    "        if i==1 and j==1:\n",
    "            plt.show()\n",
    "            i, j = 0, 0\n",
    "        else:\n",
    "            if j==1:\n",
    "                i += 1\n",
    "                j = 0\n",
    "            else:\n",
    "                j += 1\n",
    "        '''\n",
    "        \n",
    "print(patch_count)"
   ]
  },
  {
   "cell_type": "code",
   "execution_count": null,
   "metadata": {},
   "outputs": [],
   "source": []
  }
 ],
 "metadata": {
  "kernelspec": {
   "display_name": "Python 3",
   "language": "python",
   "name": "python3"
  },
  "language_info": {
   "codemirror_mode": {
    "name": "ipython",
    "version": 3
   },
   "file_extension": ".py",
   "mimetype": "text/x-python",
   "name": "python",
   "nbconvert_exporter": "python",
   "pygments_lexer": "ipython3",
   "version": "3.7.3"
  }
 },
 "nbformat": 4,
 "nbformat_minor": 2
}
