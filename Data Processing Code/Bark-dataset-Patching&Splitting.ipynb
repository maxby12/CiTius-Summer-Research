{
 "cells": [
  {
   "cell_type": "code",
   "execution_count": 1,
   "metadata": {},
   "outputs": [],
   "source": [
    "import os\n",
    "import sys\n",
    "import numpy as np\n",
    "import matplotlib.pyplot as plt\n",
    "\n",
    "from skimage import io, img_as_float, img_as_ubyte\n",
    "from skimage.transform import rescale, resize\n",
    "from skimage.util import view_as_blocks\n",
    "\n",
    "%load_ext autotime"
   ]
  },
  {
   "cell_type": "code",
   "execution_count": 2,
   "metadata": {},
   "outputs": [
    {
     "name": "stdout",
     "output_type": "stream",
     "text": [
      "time: 3.29 ms\n"
     ]
    }
   ],
   "source": [
    "def normalize_img_values(img):\n",
    "    img = img - img.min()\n",
    "    img = img / img.max()\n",
    "    img = img_as_ubyte(img)\n",
    "    return img\n",
    "\n",
    "def check_normalized(img):\n",
    "    try:\n",
    "        assert img.shape == (256, 256, 3), 'Error in shape of a read image '+str(img.shape)\n",
    "        assert img.dtype == np.uint8, 'Error in dtype of a read image '+str(img.dtype)\n",
    "        assert img.max() == 255, 'Error in max value of a read image '+str(img.max())\n",
    "        assert img.min() == 0, 'Error in min value of a read image '+str(img.min())\n",
    "        \n",
    "    except AssertionError:\n",
    "        return normalize_img_values(img_as_float(img))\n",
    "    \n",
    "    return img\n",
    "\n",
    "def check_normalized_patch(patch, patch_size=64):\n",
    "    try:\n",
    "        assert patch.shape == (patch_size, patch_size, 3), 'Error in shape of a read patch '+str(patch.shape)\n",
    "        assert patch.dtype == np.uint8, 'Error in dtype of a read patch '+str(patch.dtype)\n",
    "        assert patch.max() == 255, 'Error in max value of a read patch '+str(patch.max())\n",
    "        assert patch.min() == 0, 'Error in min value of a read patch '+str(patch.min())\n",
    "        \n",
    "    except AssertionError:\n",
    "        return normalize_img_values(img_as_float(patch))\n",
    "    \n",
    "    return patch"
   ]
  },
  {
   "cell_type": "code",
   "execution_count": 6,
   "metadata": {},
   "outputs": [
    {
     "name": "stdout",
     "output_type": "stream",
     "text": [
      "time: 854 µs\n"
     ]
    }
   ],
   "source": [
    "def generate_patches(img, patch_size=64):\n",
    "    assert ((patch_size & (patch_size - 1)) == 0) and patch_size > 0,'Patch size must be a positive power of 2'\n",
    "    assert patch_size < 256,'Patch size must be lower than 256'\n",
    "    \n",
    "    return view_as_blocks(img, block_shape=(patch_size, patch_size, 3))\n",
    "\n",
    "def sliding_window(img, window_size=64, )"
   ]
  },
  {
   "cell_type": "code",
   "execution_count": 10,
   "metadata": {
    "scrolled": true
   },
   "outputs": [
    {
     "name": "stderr",
     "output_type": "stream",
     "text": [
      "/home/albert.garcia/anaconda3/lib/python3.7/site-packages/skimage/util/dtype.py:135: UserWarning: Possible precision loss when converting from float64 to uint8\n",
      "  .format(dtypeobj_in, dtypeobj_out))\n"
     ]
    },
    {
     "name": "stdout",
     "output_type": "stream",
     "text": [
      "47728 patches saved to ../Datasets/Bark-Train-patches-64/ from a total of 3729 images\n",
      "11936 patches saved to ../Datasets/Bark-Test-patches-64/ from a total of 3729 images\n",
      "time: 1min 11s\n"
     ]
    }
   ],
   "source": [
    "# CREATE A PATCHED DATASET FROM THE BARK DATASET\n",
    "\n",
    "train_size = 0.8\n",
    "patch_size = 64\n",
    "dataset_path = '../Datasets/Bark-dataset/'\n",
    "output_path = train_path = '../Datasets/Bark-Train-patches-'+str(patch_size)+'/'\n",
    "test_path = '../Datasets/Bark-Test-patches-'+str(patch_size)+'/'\n",
    "\n",
    "assert ((patch_size & (patch_size - 1)) == 0) and patch_size > 0,'Patch size must be a positive power of 2'\n",
    "assert patch_size < 256,'Patch size must be lower than 256'\n",
    "\n",
    "if not os.path.exists(train_path): os.mkdir(train_path)\n",
    "if not os.path.exists(test_path): os.mkdir(test_path)\n",
    "\n",
    "files = sorted(os.listdir(dataset_path), key=lambda x: int( (x.split('_')[1]).split('.')[0] ))\n",
    "num_images = len(files)\n",
    "patches_per_image = int(264/patch_size)**2\n",
    "num_train_samples = int(num_images*0.8)*patches_per_image\n",
    "num_test_samples = num_samples - num_train_samples\n",
    "\n",
    "assert num_train_samples % patches_per_image == 0 and num_train_samples > 0,'Num train samples '+str(num_train_samples)+' not multiple of: '+str(patches_per_image)\n",
    "assert num_test_samples % patches_per_image == 0 and num_test_samples > 0,'Num test samples '+str(num_test_samples)+' not multiple of: '+str(patches_per_image)\n",
    "\n",
    "img_count = 0\n",
    "patch_count = 0\n",
    "for filename in files:\n",
    "    if '.jpg' not in filename: continue\n",
    "    \n",
    "    img = io.imread(dataset_path+filename)\n",
    "    #print(img.shape, img.dtype, img.max(), img.min())\n",
    "    img = check_normalized(img)\n",
    "    \n",
    "    #print(np.reshape(generate_patches(img, patch_size), newshape=(-1, patch_size, patch_size, 3)).shape )\n",
    "    raw_patches = generate_patches(img, patch_size)\n",
    "    patches = np.reshape(raw_patches, (-1, patch_size, patch_size, 3))\n",
    "    for patch in patches:\n",
    "        patch = check_normalized_patch(patch)\n",
    "        \n",
    "        #plt.imshow(patch)\n",
    "        #plt.show()\n",
    "        \n",
    "        assert patch.shape == (patch_size, patch_size, 3), 'Error in shape of a read image '+str(patch.shape)\n",
    "        assert patch.dtype == np.uint8, 'Error in dtype of a read image '+str(patch.dtype)\n",
    "        assert patch.max() == 255, 'Error in max value of a read image '+str(patch.max())\n",
    "        assert patch.min() == 0, 'Error in min value of a read image '+str(patch.min())\n",
    "\n",
    "        image_name = str(patch_count) + '.jpg'\n",
    "        io.imsave(output_path + str(filename.split('_')[0]) + '_' + str(img_count) + '_' + image_name, patch)\n",
    "        patch_count += 1\n",
    "        if patch_count == num_train_samples: output_path = test_path\n",
    "    \n",
    "    img_count += 1\n",
    "    \n",
    "print(num_train_samples,'patches saved to',train_path,'from a total of',img_count,'images')\n",
    "print(num_test_samples,'patches saved to',test_path,'from a total of',img_count,'images')"
   ]
  },
  {
   "cell_type": "code",
   "execution_count": null,
   "metadata": {},
   "outputs": [],
   "source": []
  }
 ],
 "metadata": {
  "kernelspec": {
   "display_name": "Python 3",
   "language": "python",
   "name": "python3"
  },
  "language_info": {
   "codemirror_mode": {
    "name": "ipython",
    "version": 3
   },
   "file_extension": ".py",
   "mimetype": "text/x-python",
   "name": "python",
   "nbconvert_exporter": "python",
   "pygments_lexer": "ipython3",
   "version": "3.7.3"
  }
 },
 "nbformat": 4,
 "nbformat_minor": 2
}
